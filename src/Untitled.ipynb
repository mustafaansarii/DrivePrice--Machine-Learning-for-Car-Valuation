{
 "cells": [
  {
   "cell_type": "code",
   "execution_count": 1,
   "id": "d4229d26",
   "metadata": {},
   "outputs": [],
   "source": [
    "import modelbit\n",
    "modelbit.get_inference(\n",
    "  region=\"ap-south-1\",\n",
    "  workspace=\"mustafaansari\",\n",
    "  deployment=\"predict_car_price\",\n",
    "  data=[Year, Present_Price, Kms_Driven, Owner, Fuel_Type, Seller_Type, Transmission_Type]\n",
    ")"
   ]
  },
  {
   "cell_type": "code",
   "execution_count": 23,
   "id": "515f7e3a",
   "metadata": {},
   "outputs": [
    {
     "name": "stdout",
     "output_type": "stream",
     "text": [
      "Running on local URL:  http://127.0.0.1:7866\n",
      "\n",
      "To create a public link, set `share=True` in `launch()`.\n"
     ]
    },
    {
     "data": {
      "text/html": [
       "<div><iframe src=\"http://127.0.0.1:7866/\" width=\"100%\" height=\"500\" allow=\"autoplay; camera; microphone; clipboard-read; clipboard-write;\" frameborder=\"0\" allowfullscreen></iframe></div>"
      ],
      "text/plain": [
       "<IPython.core.display.HTML object>"
      ]
     },
     "metadata": {},
     "output_type": "display_data"
    },
    {
     "data": {
      "text/plain": []
     },
     "execution_count": 23,
     "metadata": {},
     "output_type": "execute_result"
    }
   ],
   "source": [
    "import gradio as gr\n",
    "import modelbit\n",
    "\n",
    "def predict_car_price(Year, Present_Price, Kms_Driven, Num_Owners, Fuel_Type, Seller_Type, Transmission_Type):\n",
    "    # Getting the inference\n",
    "    inference_result = modelbit.get_inference(\n",
    "        region=\"ap-south-1\",\n",
    "        workspace=\"mustafaansari\",\n",
    "        deployment=\"predict_car_price\",\n",
    "        data=[Year, Present_Price, Kms_Driven, Num_Owners, Fuel_Type, Seller_Type, Transmission_Type]\n",
    "    )\n",
    "\n",
    "    # Extracting the output message from the dictionary and removing the quotes\n",
    "    output_message = inference_result['data'].strip('\"')\n",
    "\n",
    "    return output_message\n",
    "\n",
    "fuel_type_dropdown = gr.Dropdown(choices=[\"Petrol\", \"Diesel\", \"CNG\"], label=\"Fuel Type\")\n",
    "seller_type_dropdown = gr.Dropdown(choices=[\"Individual\", \"Dealer\"], label=\"Seller Type\")\n",
    "transmission_type_dropdown = gr.Dropdown(choices=[\"Manual\", \"Automatic\"], label=\"Transmission Type\")\n",
    "\n",
    "iface = gr.Interface(\n",
    "    fn=predict_car_price,\n",
    "    inputs=[\n",
    "        gr.Number(label=\"Year\"),\n",
    "        gr.Number(label=\"Showroom Price (in Lakhs)\"),\n",
    "        gr.Number(label=\"Kilometers Driven\"),\n",
    "        gr.Number(label=\"Number of Previous Owners\"),\n",
    "        fuel_type_dropdown,\n",
    "        seller_type_dropdown,\n",
    "        transmission_type_dropdown\n",
    "    ],\n",
    "    outputs=\"text\",\n",
    "    title=\"Car Price Prediction\",\n",
    "    description=\"Predict the price of a car using the provided features.\"\n",
    ")\n",
    "\n",
    "iface.launch()\n"
   ]
  },
  {
   "cell_type": "code",
   "execution_count": 14,
   "id": "8326f472",
   "metadata": {},
   "outputs": [
    {
     "data": {
      "text/plain": [
       "{'data': 'You can sell this car at Rs.10.48 lakhs'}"
      ]
     },
     "execution_count": 14,
     "metadata": {},
     "output_type": "execute_result"
    }
   ],
   "source": [
    "import modelbit\n",
    "modelbit.get_inference(\n",
    "  region=\"ap-south-1\",\n",
    "  workspace=\"mustafaansari\",\n",
    "  deployment=\"predict_car_price\",\n",
    "  data=[2000, 13, 12, 1, 1, 1, 1]\n",
    ")"
   ]
  },
  {
   "cell_type": "code",
   "execution_count": 19,
   "id": "acc257ee",
   "metadata": {},
   "outputs": [
    {
     "name": "stdout",
     "output_type": "stream",
     "text": [
      "You can sell this car at Rs.10.48 lakhs\n"
     ]
    }
   ],
   "source": [
    "import modelbit\n",
    "\n",
    "# Getting the inference\n",
    "inference_result = modelbit.get_inference(\n",
    "    region=\"ap-south-1\",\n",
    "    workspace=\"mustafaansari\",\n",
    "    deployment=\"predict_car_price\",\n",
    "    data=[2000, 13, 12, 1, 1, 1, 1]\n",
    ")\n",
    "\n",
    "# Extracting the output message from the dictionary and removing the quotes\n",
    "output_message = inference_result['data'].strip('\"')\n",
    "\n",
    "# Printing the formatted output\n",
    "print(output_message)\n"
   ]
  },
  {
   "cell_type": "code",
   "execution_count": null,
   "id": "daf48379",
   "metadata": {},
   "outputs": [],
   "source": []
  },
  {
   "cell_type": "code",
   "execution_count": null,
   "id": "25b5fcc8",
   "metadata": {},
   "outputs": [],
   "source": []
  }
 ],
 "metadata": {
  "kernelspec": {
   "display_name": "Python 3 (ipykernel)",
   "language": "python",
   "name": "python3"
  },
  "language_info": {
   "codemirror_mode": {
    "name": "ipython",
    "version": 3
   },
   "file_extension": ".py",
   "mimetype": "text/x-python",
   "name": "python",
   "nbconvert_exporter": "python",
   "pygments_lexer": "ipython3",
   "version": "3.9.12"
  }
 },
 "nbformat": 4,
 "nbformat_minor": 5
}
